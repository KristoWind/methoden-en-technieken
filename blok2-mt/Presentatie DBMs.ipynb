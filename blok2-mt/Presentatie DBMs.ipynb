{
 "cells": [
  {
   "cell_type": "code",
   "execution_count": 1,
   "id": "306d3b05",
   "metadata": {
    "slideshow": {
     "slide_type": "skip"
    }
   },
   "outputs": [],
   "source": [
    "import pandas as pd\n",
    "import numpy as np\n",
    "import tensorflow as tf\n",
    "import matplotlib.pyplot as plt\n",
    "import pickle\n",
    "from tensorflow import keras\n",
    "from ipywidgets import interactive\n",
    "\n",
    "\n",
    "from sklearn.model_selection import train_test_split \n",
    "from sklearn import preprocessing as pp"
   ]
  },
  {
   "cell_type": "markdown",
   "id": "8b4c5f94",
   "metadata": {
    "slideshow": {
     "slide_type": "slide"
    }
   },
   "source": [
    "# Methoden & Technieken\n",
    "\n",
    "## Deep Boltzmann Machines\n",
    "\n",
    "9 Jan 2023"
   ]
  },
  {
   "cell_type": "markdown",
   "id": "d5d3548b",
   "metadata": {
    "slideshow": {
     "slide_type": "slide"
    }
   },
   "source": [
    "Deze slides zijn gebaseerd op\n",
    "- Hoofdstuk 11 van *Hands-on unsupervised learning in Python* van Patel\n",
    "- Hoofdstuk 20 van [deeplearningbook.org](deeplearningbook.org)\n",
    "- Salakhutdinov, R. & Hinton, G.. (2009). Deep Boltzmann Machines. <i>Proceedings of the Twelth International Conference on Artificial Intelligence and Statistics</i>, in <i>Proceedings of Machine Learning Research</i> ( https://proceedings.mlr.press/v5/salakhutdinov09a.html )\n",
    "\n",
    "\n",
    "De code in dit notebook is aangepast uit\n",
    "https://github.com/aapatel09/handson-unsupervised-learning/blob/master/11_dbns.ipynb"
   ]
  },
  {
   "cell_type": "markdown",
   "id": "5506d7a6",
   "metadata": {
    "slideshow": {
     "slide_type": "slide"
    }
   },
   "source": [
    "### Inhoud\n",
    "- Herhaling RBMs\n",
    "- Deep Boltzmann Machines\n",
    "- Voorbeeld: DBM op MNIST data"
   ]
  },
  {
   "cell_type": "markdown",
   "id": "91c6d3fa",
   "metadata": {
    "slideshow": {
     "slide_type": "slide"
    }
   },
   "source": [
    "### Herhaling: Restricted Boltzmann Machines\n",
    "\n",
    "Een RBM is een *undirected graphical model* met\n",
    "- Één zichtbare laag (de invoer)\n",
    "- Één verborgen laag\n",
    "- Correlaties tussen nodes in verschillende lagen\n",
    "- Geen correlaties tussen nodes in dezelfde laag\n",
    "\n",
    "Dit correspondeert met de volgende kansverdeling\n",
    "$$\n",
    "p(\\vec{v}, \\vec{h}) = exp(-E(\\vec{v},\\vec{h})),\n",
    "$$\n",
    "met als energie\n",
    "$$\n",
    "E(\\vec{v},\\vec{h}) = - \\vec{a} \\cdot \\vec{v} - \\vec{b} \\cdot \\vec{h} - \\vec{v}\\cdot W \\vec{h}.\n",
    "$$\n",
    "\n"
   ]
  },
  {
   "cell_type": "markdown",
   "id": "fd580398",
   "metadata": {
    "slideshow": {
     "slide_type": "slide"
    }
   },
   "source": [
    "#### Het model\n",
    "\n",
    "De volledige kansverdeling is niet handig om mee te werken, belangrijk zijn:\n",
    "\n",
    "- De forward pass\n",
    "$$\n",
    "p(h_j = 1 | \\vec{v}) = \\sigma(b_j + \\sum v_i W_{ij})\n",
    "$$\n",
    "- De backward pass\n",
    "$$\n",
    "p(v_i = 1 | \\vec{h}) = \\sigma(a_i + \\sum W_{ij} h_j)\n",
    "$$\n",
    "met $\\sigma(x) = 1/(1+e^{-x})$ de gebruikelijke sigmoid functie."
   ]
  },
  {
   "cell_type": "markdown",
   "id": "c2aa8c88",
   "metadata": {
    "slideshow": {
     "slide_type": "slide"
    }
   },
   "source": [
    "#### Contrastive Divergence\n",
    "\n",
    "De parameters ($W_{ij}$, $a_i$ en $b_j$), worden gevonden door de *log-likelihood* te maximaliseren met gradient ascend. Dit komt neer op de marginale kans $p(\\vec{v})$ te maximaliseren. Dit geeft onder andere de volgende update regel voor de gewichten $W_{ij}$:\n",
    "\n",
    "$$\n",
    "\\Delta W_{ij} = r \\Big( \\underbrace{\\mathbb{E}[v_i h_j | \\vec{v}]}_{data} - \\underbrace{\\mathbb{E}[v_i h_j]}_{model} \\Big)\n",
    "$$\n",
    "\n",
    "met $r$ de *learning rate*. \n",
    "\n",
    "Probleem: om $\\mathbb{E}[v_i h_j]$ exact uit te rekenen is een sommatie over alle mogelijkheden voor $\\vec{v}$ en $\\vec{h}$ nodig. Dit zijn exponentieel veel termen. Deze verwachtingswaarde word benaderd met de *Markov Chain Monte Carlo* methode."
   ]
  },
  {
   "cell_type": "markdown",
   "id": "e8501ff5",
   "metadata": {
    "slideshow": {
     "slide_type": "slide"
    }
   },
   "source": [
    "#### Toepassingen RBMs\n",
    "\n",
    "- Het is een *generatief* model, het modelleert een kansverdeling waaruit vervolgens getrokken kan worden.\n",
    "\n",
    "- Het is een *unsupervised* model dat patronen in de data leert. Deze *features* (de hidden nodes) kunnen vervolgens als invoer voor andere modellen gebruikt worden."
   ]
  },
  {
   "cell_type": "markdown",
   "id": "79bdfa17",
   "metadata": {
    "slideshow": {
     "slide_type": "slide"
    }
   },
   "source": [
    "### Deep Boltzmann Machines\n",
    "\n",
    "Het idee van een DBM is dat de *features* van een RBM gebruikt worden als invoer voor een volgende RBM, en zo een paar lagen diep.\n",
    "\n",
    "- In feite is dit een Boltzman Machine met een zwakkere restrictie dan een RBM, er mogen nu wel correlaties zijn tussen *hidden nodes*, maar niet in dezelfde laag.\n",
    "\n",
    "- De diepere lagen leren meer en meer abstracte features.\n",
    "\n",
    "Voordeel is dat deze lagen één voor één getraind kunnen worden. Dit maakt het een van de historisch eerste *deep learning* modellen die efficiënt getraind kon worden.\n",
    "\n",
    "Het trainen van een DBM is een eerste stap in het trainen van een *Deep Belief Network* (les donderdag.)"
   ]
  },
  {
   "cell_type": "code",
   "execution_count": 2,
   "id": "9daa770b",
   "metadata": {
    "slideshow": {
     "slide_type": "skip"
    }
   },
   "outputs": [
    {
     "name": "stdout",
     "output_type": "stream",
     "text": [
      "Shape of X_train:  (50000, 784)\n",
      "Shape of y_train:  (50000,)\n",
      "Shape of X_validation:  (10000, 784)\n",
      "Shape of y_validation:  (10000,)\n",
      "Shape of X_test:  (10000, 784)\n",
      "Shape of y_test:  (10000,)\n"
     ]
    }
   ],
   "source": [
    "(X_train, y_train), (X_test, y_test) = keras.datasets.mnist.load_data()\n",
    "X_train = X_train.reshape((60000,-1)).astype(\"float32\") / 255\n",
    "X_test = X_test.reshape((10000,-1)).astype(\"float32\") / 255\n",
    "\n",
    "X_train, X_validation,y_train,  y_validation = train_test_split(X_train, y_train, test_size = 10000, random_state = 2023)\n",
    "\n",
    "# Verify shape of datasets\n",
    "print(\"Shape of X_train: \", X_train.shape)\n",
    "print(\"Shape of y_train: \", y_train.shape)\n",
    "print(\"Shape of X_validation: \", X_validation.shape)\n",
    "print(\"Shape of y_validation: \", y_validation.shape)\n",
    "print(\"Shape of X_test: \", X_test.shape)\n",
    "print(\"Shape of y_test: \", y_test.shape)"
   ]
  },
  {
   "cell_type": "code",
   "execution_count": 3,
   "id": "dd0df4f1",
   "metadata": {
    "slideshow": {
     "slide_type": "skip"
    }
   },
   "outputs": [],
   "source": [
    "# Create Pandas DataFrames from the datasets\n",
    "train_index = range(0,len(X_train))\n",
    "validation_index = range(len(X_train),len(X_train)+len(X_validation))\n",
    "test_index = range(len(X_train)+len(X_validation), \\\n",
    "                   len(X_train)+len(X_validation)+len(X_test))\n",
    "\n",
    "X_train = pd.DataFrame(data=X_train,index=train_index)\n",
    "y_train = pd.Series(data=y_train,index=train_index)\n",
    "\n",
    "X_validation = pd.DataFrame(data=X_validation,index=validation_index)\n",
    "y_validation = pd.Series(data=y_validation,index=validation_index)\n",
    "\n",
    "X_test = pd.DataFrame(data=X_test,index=test_index)\n",
    "y_test = pd.Series(data=y_test,index=test_index)"
   ]
  },
  {
   "cell_type": "code",
   "execution_count": 4,
   "id": "bc8970c1",
   "metadata": {
    "slideshow": {
     "slide_type": "skip"
    }
   },
   "outputs": [],
   "source": [
    "def plot_digit(X, y, example, ax):\n",
    "    label = y.loc[example]\n",
    "    image = X.loc[example,:].values.reshape([28,28])\n",
    "    ax.imshow(image, cmap=plt.get_cmap('gray'))\n",
    "    ax.set_axis_off()"
   ]
  },
  {
   "cell_type": "code",
   "execution_count": 5,
   "id": "8b2360fe",
   "metadata": {
    "slideshow": {
     "slide_type": "skip"
    }
   },
   "outputs": [
    {
     "data": {
      "image/png": "[encoded data removed]",
      "text/plain": [
       "<Figure size 360x360 with 1 Axes>"
      ]
     },
     "metadata": {
      "needs_background": "light"
     },
     "output_type": "display_data"
    }
   ],
   "source": [
    "# View the first digit\n",
    "fig = plt.figure(figsize = (5,5))\n",
    "ax = fig.subplots(1,1)\n",
    "plot_digit(X_train, y_train, 0, ax)\n",
    "plt.show()"
   ]
  },
  {
   "cell_type": "code",
   "execution_count": 6,
   "id": "a0fa652c",
   "metadata": {
    "slideshow": {
     "slide_type": "skip"
    }
   },
   "outputs": [],
   "source": [
    "def one_hot(series):\n",
    "    label_binarizer = pp.LabelBinarizer()\n",
    "    label_binarizer.fit(range(max(series)+1))\n",
    "    return label_binarizer.transform(series)\n",
    "\n",
    "def reverse_one_hot(originalSeries, newSeries):\n",
    "    label_binarizer = pp.LabelBinarizer()\n",
    "    label_binarizer.fit(range(max(originalSeries)+1))\n",
    "    return label_binarizer.inverse_transform(newSeries)"
   ]
  },
  {
   "cell_type": "code",
   "execution_count": 7,
   "id": "cd10e73b",
   "metadata": {
    "slideshow": {
     "slide_type": "skip"
    }
   },
   "outputs": [],
   "source": [
    "# Create one-hot vectors for the labels\n",
    "y_train_oneHot = one_hot(y_train)\n",
    "y_validation_oneHot = one_hot(y_validation)\n",
    "y_test_oneHot = one_hot(y_test)"
   ]
  },
  {
   "cell_type": "code",
   "execution_count": 8,
   "id": "f9566169",
   "metadata": {
    "slideshow": {
     "slide_type": "skip"
    }
   },
   "outputs": [],
   "source": [
    "# Make code compatible with v1 of TF\n",
    "tf.compat.v1.disable_eager_execution()"
   ]
  },
  {
   "cell_type": "code",
   "execution_count": 9,
   "id": "1acd6999",
   "metadata": {
    "slideshow": {
     "slide_type": "skip"
    }
   },
   "outputs": [],
   "source": [
    "# Define RBM class\n",
    "class RBM(object):\n",
    "    \n",
    "    def __init__(self, input_size, output_size, \n",
    "                 learning_rate, epochs, batchsize):\n",
    "        # Define hyperparameters\n",
    "        self._input_size = input_size\n",
    "        self._output_size = output_size\n",
    "        self.learning_rate = learning_rate\n",
    "        self.epochs = epochs\n",
    "        self.batchsize = batchsize\n",
    "        \n",
    "        # Initialize weights and biases using zero matrices\n",
    "        self.w = np.zeros([input_size, output_size], dtype=np.float32)\n",
    "        self.hb = np.zeros([output_size], dtype=np.float32)\n",
    "        self.vb = np.zeros([input_size], dtype=np.float32)\n",
    "\n",
    "    def prob_h_given_v(self, visible, w, hb):\n",
    "        return tf.nn.sigmoid(tf.matmul(visible, w) + hb)\n",
    "\n",
    "    def prob_v_given_h(self, hidden, w, vb):\n",
    "        return tf.nn.sigmoid(tf.matmul(hidden, tf.transpose(w)) + vb)\n",
    "    \n",
    "    def sample_prob(self, probs):\n",
    "        return tf.nn.relu(tf.sign(probs - tf.compat.v1.random_uniform(tf.shape(probs))))\n",
    "\n",
    "    def train(self, X):\n",
    "        _w = tf.compat.v1.placeholder(tf.float32, [self._input_size, self._output_size])\n",
    "        _hb = tf.compat.v1.placeholder(tf.float32, [self._output_size])\n",
    "        _vb = tf.compat.v1.placeholder(tf.float32, [self._input_size])\n",
    "        \n",
    "        prv_w = np.zeros([self._input_size, self._output_size], dtype=np.float32)\n",
    "        prv_hb = np.zeros([self._output_size], dtype=np.float32)\n",
    "        prv_vb = np.zeros([self._input_size], dtype=np.float32)\n",
    "        \n",
    "        cur_w = np.zeros([self._input_size, self._output_size], dtype=np.float32)\n",
    "        cur_hb = np.zeros([self._output_size], dtype=np.float32)\n",
    "        cur_vb = np.zeros([self._input_size], dtype=np.float32)\n",
    "        \n",
    "        v0 = tf.compat.v1.placeholder(tf.float32, [None, self._input_size])\n",
    "        h0 = self.sample_prob(self.prob_h_given_v(v0, _w, _hb))\n",
    "        v1 = self.sample_prob(self.prob_v_given_h(h0, _w, _vb))\n",
    "        h1 = self.prob_h_given_v(v1, _w, _hb)\n",
    "        \n",
    "        positive_grad = tf.matmul(tf.transpose(v0), h0)\n",
    "        negative_grad = tf.matmul(tf.transpose(v1), h1)\n",
    "        \n",
    "        update_w = _w + self.learning_rate * \\\n",
    "            (positive_grad - negative_grad) / tf.cast(tf.shape(v0)[0], tf.float32)\n",
    "        update_vb = _vb +  self.learning_rate * tf.reduce_mean(v0 - v1, 0)\n",
    "        update_hb = _hb +  self.learning_rate * tf.reduce_mean(h0 - h1, 0)\n",
    "        \n",
    "        err = tf.reduce_mean(tf.square(v0 - v1))\n",
    "        \n",
    "        error_list = []\n",
    "        \n",
    "        with tf.compat.v1.Session() as sess:\n",
    "            sess.run(tf.compat.v1.global_variables_initializer())\n",
    "            \n",
    "            for epoch in range(self.epochs):\n",
    "                for start, end in zip(range(0, len(X), \\\n",
    "                        self.batchsize),range(self.batchsize,len(X), \\\n",
    "                                              self.batchsize)):\n",
    "                    batch = X[start:end]\n",
    "                    cur_w = sess.run(update_w, feed_dict={v0: batch, \\\n",
    "                                    _w: prv_w, _hb: prv_hb, _vb: prv_vb})\n",
    "                    cur_hb = sess.run(update_hb, feed_dict={v0: batch, \\\n",
    "                                    _w: prv_w, _hb: prv_hb, _vb: prv_vb})\n",
    "                    cur_vb = sess.run(update_vb, feed_dict={v0: batch, \\\n",
    "                                    _w: prv_w, _hb: prv_hb, _vb: prv_vb})\n",
    "                    prv_w = cur_w\n",
    "                    prv_hb = cur_hb\n",
    "                    prv_vb = cur_vb\n",
    "                error = sess.run(err, feed_dict={v0: X, \\\n",
    "                                _w: cur_w, _vb: cur_vb, _hb: cur_hb})\n",
    "                if epoch%10 == 0:\n",
    "                    print(f'Epoch: {epoch} reconstruction error: {error}')\n",
    "                error_list.append(error)\n",
    "            self.w = prv_w\n",
    "            self.hb = prv_hb\n",
    "            self.vb = prv_vb\n",
    "            return error_list\n",
    "\n",
    "    def rbm_output(self, X):\n",
    "        \n",
    "        input_X = tf.constant(X)\n",
    "        _w = tf.constant(self.w)\n",
    "        _hb = tf.constant(self.hb)\n",
    "        _vb = tf.constant(self.vb)\n",
    "        out = tf.nn.sigmoid(tf.matmul(input_X, _w) + _hb)\n",
    "        hiddenGen = self.sample_prob(self.prob_h_given_v(input_X, _w, _hb))\n",
    "        visibleGen = self.sample_prob(self.prob_v_given_h(hiddenGen, _w, _vb))\n",
    "        with tf.compat.v1.Session() as sess:\n",
    "            sess.run(tf.compat.v1.global_variables_initializer())\n",
    "            return sess.run(out), sess.run(visibleGen), sess.run(hiddenGen)\n",
    "        \n",
    "    def show_features(self, shape, suptitle, count=-1):\n",
    "        maxw = np.amax(self.w.T)\n",
    "        minw = np.amin(self.w.T)\n",
    "        count = self._output_size if count == -1 or count > \\\n",
    "                self._output_size else count\n",
    "        ncols = count if count < 14 else 14 \n",
    "        nrows = count//ncols\n",
    "        nrows = nrows if nrows > 2 else 3\n",
    "        fig = plt.figure(figsize=(ncols, nrows), dpi=100)\n",
    "        grid = Grid(fig, rect=111, nrows_ncols=(nrows, ncols), axes_pad=0.01)\n",
    "\n",
    "        for i, ax in enumerate(grid):\n",
    "            x = self.w.T[i] if i<self._input_size else np.zeros(shape)\n",
    "            x = (x.reshape(1, -1) - minw)/maxw\n",
    "            ax.imshow(x.reshape(*shape), cmap=mpl.cm.Greys)\n",
    "            ax.set_axis_off()\n",
    "\n",
    "        fig.text(0.5,1, suptitle, fontsize=20, horizontalalignment='center')\n",
    "        fig.tight_layout()\n",
    "        plt.show()\n",
    "        return"
   ]
  },
  {
   "cell_type": "code",
   "execution_count": 10,
   "id": "e1e60f52",
   "metadata": {
    "slideshow": {
     "slide_type": "skip"
    }
   },
   "outputs": [],
   "source": [
    "# Since we are training, set input as training data\n",
    "inputX = np.array(X_train)\n",
    "inputX = inputX.astype(np.float32)\n",
    "\n",
    "# Create list to hold our RBMs\n",
    "rbm_list = []\n",
    "\n",
    "# Define the parameters of the RBMs we will train\n",
    "rbm_list.append(RBM(784,700,1.0,100,200))\n",
    "rbm_list.append(RBM(700,600,1.0,100,200))\n",
    "rbm_list.append(RBM(600,500,1.0,100,200))"
   ]
  },
  {
   "cell_type": "code",
   "execution_count": 11,
   "id": "9e064a0d",
   "metadata": {
    "slideshow": {
     "slide_type": "skip"
    }
   },
   "outputs": [],
   "source": [
    "## To make the output stable across runs\n",
    "#tf.random.set_seed(2023)\n",
    "#np.random.seed(2023)\n",
    "#\n",
    "#outputList = []\n",
    "#error_list = []\n",
    "##For each RBM in our list\n",
    "#for i in range(0,len(rbm_list)):\n",
    "#    print('RBM', i+1)\n",
    "#    #Train a new one\n",
    "#    rbm = rbm_list[i]\n",
    "#    err = rbm.train(inputX)\n",
    "#    error_list.append(err)\n",
    "#    #Return the output layer\n",
    "#    outputX, reconstructedX, hiddenX = rbm.rbm_output(inputX)\n",
    "#    outputList.append(outputX)\n",
    "#    inputX = hiddenX\n",
    "#\n",
    "#with open('DBM.pickle', mode = 'wb') as file:\n",
    "#    pickle.dump([rbm_list, outputList, error_list], file)"
   ]
  },
  {
   "cell_type": "code",
   "execution_count": 12,
   "id": "ecdae74b",
   "metadata": {
    "slideshow": {
     "slide_type": "skip"
    }
   },
   "outputs": [],
   "source": [
    "with open('DBM.pickle', mode = 'rb') as file:\n",
    "    rbm_list, outputList, error_list = pickle.load(file)"
   ]
  },
  {
   "cell_type": "code",
   "execution_count": 13,
   "id": "12e43b61",
   "metadata": {
    "hide_input": true,
    "slideshow": {
     "slide_type": "slide"
    }
   },
   "outputs": [
    {
     "data": {
      "image/png": "[encoded data removed]",
      "text/plain": [
       "<Figure size 2160x720 with 3 Axes>"
      ]
     },
     "metadata": {
      "needs_background": "light"
     },
     "output_type": "display_data"
    }
   ],
   "source": [
    "# Plot reconstruction errors\n",
    "fig = plt.figure(figsize=(30,10), constrained_layout=True)\n",
    "ax = fig.subplots(1,3,sharey=True)\n",
    "for i, err in enumerate(error_list):\n",
    "    pd.Series(err).plot(ax = ax[i], logy=False)\n",
    "    ax[i].set_xlabel(\"Epoch\", fontsize=30)\n",
    "    ax[i].set_ylabel(\"Reconstruction Error\", fontsize=30)\n",
    "    ax[i].set_title(f'RBM {i+1}', fontsize=40)\n",
    "plt.show()\n"
   ]
  },
  {
   "cell_type": "code",
   "execution_count": 14,
   "id": "1021d376",
   "metadata": {
    "slideshow": {
     "slide_type": "skip"
    }
   },
   "outputs": [
    {
     "name": "stderr",
     "output_type": "stream",
     "text": [
      "2023-01-09 10:41:19.575559: I tensorflow/core/platform/cpu_feature_guard.cc:151] This TensorFlow binary is optimized with oneAPI Deep Neural Network Library (oneDNN) to use the following CPU instructions in performance-critical operations:  SSE4.1 SSE4.2 AVX AVX2 FMA\n",
      "To enable them in other operations, rebuild TensorFlow with the appropriate compiler flags.\n"
     ]
    }
   ],
   "source": [
    "# View generated images from the first RBM\n",
    "inputX = np.array(X_train)\n",
    "rbmOne = rbm_list[0]\n",
    "\n",
    "outputX_rbmOne, reconstructedX_rbmOne, hiddenX_rbmOne = \\\n",
    "                            rbmOne.rbm_output(inputX)\n",
    "reconstructedX_rbmOne = pd.DataFrame(data=reconstructedX_rbmOne, \\\n",
    "                                     index=X_train.index)\n"
   ]
  },
  {
   "cell_type": "markdown",
   "id": "12497d7d",
   "metadata": {
    "slideshow": {
     "slide_type": "slide"
    }
   },
   "source": [
    "### Voorbeeld: DBM op MNIST"
   ]
  },
  {
   "cell_type": "code",
   "execution_count": 15,
   "id": "c480460e",
   "metadata": {
    "hide_input": true,
    "slideshow": {
     "slide_type": "-"
    }
   },
   "outputs": [
    {
     "data": {
      "application/vnd.jupyter.widget-view+json": {
       "model_id": "b35949e8687c47b5be7c1f4ab491f647",
       "version_major": 2,
       "version_minor": 0
      },
      "text/plain": [
       "interactive(children=(IntSlider(value=4, description='j', max=9), Output()), _dom_classes=('widget-interact',)…"
      ]
     },
     "execution_count": 15,
     "metadata": {},
     "output_type": "execute_result"
    }
   ],
   "source": [
    "def plot_images(j):\n",
    "    fig = plt.figure(figsize = (20,10), constrained_layout=True)\n",
    "    ax = fig.subplots(1,2)\n",
    "    example = j\n",
    "    plot_digit(reconstructedX_rbmOne, y_train, example, ax[1])\n",
    "    ax[1].set_title('Reconstructed Image', fontsize = 40)\n",
    "    plot_digit(X_train, y_train, example, ax[0])\n",
    "    ax[0].set_title('Original Image', fontsize = 40)\n",
    "    \n",
    "interactive(plot_images, j=(0,9))"
   ]
  }
 ],
 "metadata": {
  "celltoolbar": "Slideshow",
  "kernelspec": {
   "display_name": "Python 3 (ipykernel)",
   "language": "python",
   "name": "python3"
  },
  "language_info": {
   "codemirror_mode": {
    "name": "ipython",
    "version": 3
   },
   "file_extension": ".py",
   "mimetype": "text/x-python",
   "name": "python",
   "nbconvert_exporter": "python",
   "pygments_lexer": "ipython3",
   "version": "3.9.12"
  },
  "toc": {
   "base_numbering": 1,
   "nav_menu": {},
   "number_sections": false,
   "sideBar": true,
   "skip_h1_title": false,
   "title_cell": "Table of Contents",
   "title_sidebar": "Contents",
   "toc_cell": false,
   "toc_position": {},
   "toc_section_display": true,
   "toc_window_display": false
  }
 },
 "nbformat": 4,
 "nbformat_minor": 5
}
